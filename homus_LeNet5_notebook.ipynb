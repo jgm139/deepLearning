{
 "cells": [
  {
   "cell_type": "markdown",
   "metadata": {},
   "source": [
    "# HOMUS LeNet 5"
   ]
  },
  {
   "cell_type": "markdown",
   "metadata": {},
   "source": [
    "Trains a simple LeNet-5 (http://yann.lecun.com/exdb/lenet/) adapted to the HOMUS dataset using Keras Software (http://keras.io/)\n",
    "\n",
    "LeNet-5 demo example http://eblearn.sourceforge.net/beginner_tutorial2_train.html\n",
    "\n",
    "This example executed with $30 \\times 30$ reescaled images and $50$ epochs obtains an accuracy close to $70\\%$."
   ]
  },
  {
   "cell_type": "markdown",
   "metadata": {},
   "source": [
    "## Install the following Python packages to run this notebook"
   ]
  },
  {
   "cell_type": "markdown",
   "metadata": {},
   "source": [
    "`sudo apt-get install python python-dev libhdf5-serial-dev hdf5-tools python-pip`\n",
    "\n",
    "`pip install pip -U`\n",
    "\n",
    "`pip install keras tensorflow pillow h5py sklearn`\n",
    "\n",
    "`pip install jupyter`\n",
    "\n",
    "`pip install matplotlib`"
   ]
  },
  {
   "cell_type": "markdown",
   "metadata": {},
   "source": [
    "## Import libraries"
   ]
  },
  {
   "cell_type": "code",
   "execution_count": 1,
   "metadata": {},
   "outputs": [],
   "source": [
    "%matplotlib inline\n",
    "import matplotlib.pyplot as plt"
   ]
  },
  {
   "cell_type": "code",
   "execution_count": 2,
   "metadata": {},
   "outputs": [
    {
     "name": "stderr",
     "output_type": "stream",
     "text": [
      "Using TensorFlow backend.\n"
     ]
    }
   ],
   "source": [
    "import numpy as np\n",
    "import glob\n",
    "\n",
    "from keras.preprocessing.image import ImageDataGenerator, array_to_img, img_to_array, load_img\n",
    "from keras.models import Sequential\n",
    "from keras.layers import Dense, Dropout, Activation, Flatten, MaxPooling2D\n",
    "from keras.layers.convolutional import Conv2D\n",
    "from keras.utils import np_utils\n",
    "from keras.models import load_model\n",
    "from keras.callbacks import EarlyStopping\n",
    "from keras import backend as K"
   ]
  },
  {
   "cell_type": "markdown",
   "metadata": {},
   "source": [
    "## Define global constants"
   ]
  },
  {
   "cell_type": "markdown",
   "metadata": {},
   "source": [
    "Lets start with $5$ epochs to test learning network parameters"
   ]
  },
  {
   "cell_type": "code",
   "execution_count": 4,
   "metadata": {},
   "outputs": [],
   "source": [
    "batch_size = 64\n",
    "nb_classes = 32\n",
    "epochs = 5\n",
    "\n",
    "# HOMUS contains images of 40 x 40 pixels\n",
    "# input image dimensions for train \n",
    "img_rows, img_cols = 30, 30\n",
    "\n",
    "# Set image channels order\n",
    "K.set_image_data_format('channels_last')"
   ]
  },
  {
   "cell_type": "markdown",
   "metadata": {},
   "source": [
    "## Load image database HOMUS"
   ]
  },
  {
   "cell_type": "code",
   "execution_count": 6,
   "metadata": {},
   "outputs": [],
   "source": [
    "#\n",
    "# Load data from data/HOMUS/train_0, data/HOMUS/train_1,...,data/HOMUS_31 folders from HOMUS images\n",
    "#\n",
    "def load_data():\n",
    "    image_list = []\n",
    "    class_list = []\n",
    "    for current_class_number in range(0,nb_classes):    # Number of class\n",
    "        for filename in glob.glob('./data/HOMUS/train_{}/*.jpg'.format(current_class_number)):\n",
    "            im = load_img(filename, grayscale=True, target_size=[img_rows, img_cols])  # this is a PIL image\n",
    "            image_list.append(np.asarray(im).astype('float32')/255)\n",
    "            class_list.append(current_class_number)\n",
    "\n",
    "    n = len(image_list)    # Total examples\n",
    "    \n",
    "    # Format train set with one channel at last position\n",
    "    X = np.asarray(image_list).reshape(n,img_rows,img_cols,1)\n",
    "    input_shape = (img_rows, img_cols, 1)\n",
    "\n",
    "    Y = np_utils.to_categorical(np.asarray(class_list), nb_classes)\n",
    "    \n",
    "    # Shuffle (X,Y)\n",
    "    randomize = np.arange(len(Y))\n",
    "    np.random.shuffle(randomize)\n",
    "    X, Y = X[randomize], Y[randomize]\n",
    "\n",
    "    n_partition = int(n*0.9)    # Train 90% and Test 10%\n",
    "\n",
    "    X_train = X[:n_partition]\n",
    "    Y_train = Y[:n_partition]\n",
    "    \n",
    "    X_test  = X[n_partition:]\n",
    "    Y_test  = Y[n_partition:]\n",
    "    \n",
    "    return X_train, Y_train, X_test, Y_test, input_shape\n"
   ]
  },
  {
   "cell_type": "markdown",
   "metadata": {},
   "source": [
    "## Plot image of symbols"
   ]
  },
  {
   "cell_type": "code",
   "execution_count": 5,
   "metadata": {},
   "outputs": [],
   "source": [
    "def plot_symbols(X,Y,n):\n",
    "    n = 15\n",
    "    index = np.random.randint(len(X), size=n)\n",
    "    plt.figure(figsize=(n, 2))\n",
    "    for i in np.arange(n):\n",
    "        ax = plt.subplot(2,n,i+1)\n",
    "        plt.imshow(X[index[i]].reshape(img_rows, img_cols))\n",
    "        plt.gray()\n",
    "        ax.set_title('{}-{}'.format(Y[i].argmax(),index[i]))\n",
    "        ax.get_xaxis().set_visible(False)\n",
    "        ax.get_yaxis().set_visible(False)\n",
    "    plt.show()"
   ]
  },
  {
   "cell_type": "markdown",
   "metadata": {},
   "source": [
    "## Build LeNet5 structure"
   ]
  },
  {
   "cell_type": "code",
   "execution_count": 7,
   "metadata": {},
   "outputs": [],
   "source": [
    "#\n",
    "# Build an ANN structure\n",
    "#\n",
    "def cnn_model(input_shape):\n",
    "    #\n",
    "    # Neural Network Structure\n",
    "    #\n",
    "    \n",
    "    model = Sequential()\n",
    "    \n",
    "    model.add(Conv2D(6, (6, 6), padding='valid', input_shape = input_shape))\n",
    "    model.add(Activation(\"sigmoid\"))\n",
    "    model.add(MaxPooling2D(pool_size=(2, 2)))\n",
    "    \n",
    "    model.add(Conv2D(16, (5, 5), padding='valid'))\n",
    "    model.add(Activation(\"sigmoid\"))\n",
    "    model.add(MaxPooling2D(pool_size=(2, 2)))\n",
    "    model.add(Dropout(0.5))\n",
    "    \n",
    "    model.add(Conv2D(12, (1,1), padding='valid'))\n",
    "    \n",
    "    model.add(Flatten())\n",
    "    model.add(Dense(1024))\n",
    "    model.add(Activation(\"sigmoid\"))\n",
    "    model.add(Dense(nb_classes))\n",
    "    model.add(Activation('softmax'))\n",
    "\n",
    "    return model"
   ]
  },
  {
   "cell_type": "markdown",
   "metadata": {},
   "source": [
    "## Start to run the program"
   ]
  },
  {
   "cell_type": "markdown",
   "metadata": {},
   "source": [
    "### Load data"
   ]
  },
  {
   "cell_type": "code",
   "execution_count": 8,
   "metadata": {},
   "outputs": [
    {
     "name": "stdout",
     "output_type": "stream",
     "text": [
      "12312 train samples\n",
      "1368 test samples\n",
      "30 x 30 image size\n",
      "(30, 30, 1) input_shape\n",
      "5 epochs\n"
     ]
    }
   ],
   "source": [
    "##################################################################################\n",
    "# Main program\n",
    "\n",
    "# the data split between train and test sets\n",
    "X_train, Y_train, X_test, Y_test, input_shape = load_data()\n",
    "\n",
    "print(X_train.shape[0], 'train samples')\n",
    "print(X_test.shape[0], 'test samples')\n",
    "print(img_rows,'x', img_cols, 'image size')\n",
    "print(input_shape,'input_shape')\n",
    "print(epochs,'epochs')"
   ]
  },
  {
   "cell_type": "markdown",
   "metadata": {},
   "source": [
    "### Let to see same examples of HOMUS database"
   ]
  },
  {
   "cell_type": "code",
   "execution_count": 8,
   "metadata": {},
   "outputs": [
    {
     "data": {
      "image/png": "[encoded data removed]",
      "text/plain": [
       "<matplotlib.figure.Figure at 0x7f7fca961320>"
      ]
     },
     "metadata": {},
     "output_type": "display_data"
    }
   ],
   "source": [
    "plot_symbols(X_train, Y_train, 15)"
   ]
  },
  {
   "cell_type": "markdown",
   "metadata": {},
   "source": [
    "### Model and optinizers"
   ]
  },
  {
   "cell_type": "markdown",
   "metadata": {},
   "source": [
    "Test optimizer parameter with `sgd` or `adadelta` values in order to check the final precision achieved."
   ]
  },
  {
   "cell_type": "code",
   "execution_count": 9,
   "metadata": {
    "scrolled": true
   },
   "outputs": [
    {
     "name": "stdout",
     "output_type": "stream",
     "text": [
      "_________________________________________________________________\n",
      "Layer (type)                 Output Shape              Param #   \n",
      "=================================================================\n",
      "conv2d_1 (Conv2D)            (None, 25, 25, 6)         222       \n",
      "_________________________________________________________________\n",
      "activation_1 (Activation)    (None, 25, 25, 6)         0         \n",
      "_________________________________________________________________\n",
      "max_pooling2d_1 (MaxPooling2 (None, 12, 12, 6)         0         \n",
      "_________________________________________________________________\n",
      "conv2d_2 (Conv2D)            (None, 8, 8, 16)          2416      \n",
      "_________________________________________________________________\n",
      "activation_2 (Activation)    (None, 8, 8, 16)          0         \n",
      "_________________________________________________________________\n",
      "max_pooling2d_2 (MaxPooling2 (None, 4, 4, 16)          0         \n",
      "_________________________________________________________________\n",
      "dropout_1 (Dropout)          (None, 4, 4, 16)          0         \n",
      "_________________________________________________________________\n",
      "conv2d_3 (Conv2D)            (None, 4, 4, 12)          204       \n",
      "_________________________________________________________________\n",
      "flatten_1 (Flatten)          (None, 192)               0         \n",
      "_________________________________________________________________\n",
      "dense_1 (Dense)              (None, 1024)              197632    \n",
      "_________________________________________________________________\n",
      "activation_3 (Activation)    (None, 1024)              0         \n",
      "_________________________________________________________________\n",
      "dense_2 (Dense)              (None, 32)                32800     \n",
      "_________________________________________________________________\n",
      "activation_4 (Activation)    (None, 32)                0         \n",
      "=================================================================\n",
      "Total params: 233,274\n",
      "Trainable params: 233,274\n",
      "Non-trainable params: 0\n",
      "_________________________________________________________________\n",
      "None\n",
      "Train on 12312 samples, validate on 1368 samples\n",
      "Epoch 1/5\n",
      "6s - loss: 3.4480 - acc: 0.0489 - val_loss: 3.4282 - val_acc: 0.0585\n",
      "Epoch 2/5\n",
      "5s - loss: 3.4345 - acc: 0.0503 - val_loss: 3.4377 - val_acc: 0.0490\n",
      "Epoch 3/5\n",
      "5s - loss: 3.4332 - acc: 0.0541 - val_loss: 3.4412 - val_acc: 0.0439\n",
      "Epoch 4/5\n",
      "5s - loss: 3.4332 - acc: 0.0487 - val_loss: 3.4413 - val_acc: 0.0439\n",
      "Epoch 5/5\n",
      "5s - loss: 3.4340 - acc: 0.0535 - val_loss: 3.4501 - val_acc: 0.0497\n"
     ]
    },
    {
     "data": {
      "text/plain": [
       "<keras.callbacks.History at 0x1260bea20>"
      ]
     },
     "execution_count": 9,
     "metadata": {},
     "output_type": "execute_result"
    }
   ],
   "source": [
    "model = cnn_model(input_shape)\n",
    "print(model.summary())\n",
    "\n",
    "model.compile(loss='categorical_crossentropy',optimizer='sgd', metrics=['accuracy'])\n",
    "\n",
    "early_stopping = EarlyStopping(monitor='loss', patience=3)\n",
    "model.fit(X_train, Y_train, batch_size=batch_size, epochs=epochs, verbose=2, validation_data=(X_test, Y_test), callbacks=[early_stopping])"
   ]
  },
  {
   "cell_type": "markdown",
   "metadata": {},
   "source": [
    "### Testing accuracy result"
   ]
  },
  {
   "cell_type": "code",
   "execution_count": 10,
   "metadata": {},
   "outputs": [
    {
     "name": "stdout",
     "output_type": "stream",
     "text": [
      "Test score:3.43 accuracy: 5.70%\n"
     ]
    }
   ],
   "source": [
    "#\n",
    "# Results\n",
    "#\n",
    "loss, acc = model.evaluate(X_test, Y_test, verbose=0)\n",
    "print('Test score:{:.2f} accuracy: {:.2f}%'.format(loss,acc*100))"
   ]
  }
 ],
 "metadata": {
  "kernelspec": {
   "display_name": "Python 3",
   "language": "python",
   "name": "python3"
  },
  "language_info": {
   "codemirror_mode": {
    "name": "ipython",
    "version": 3
   },
   "file_extension": ".py",
   "mimetype": "text/x-python",
   "name": "python",
   "nbconvert_exporter": "python",
   "pygments_lexer": "ipython3",
   "version": "3.6.2"
  },
  "toc": {
   "colors": {
    "hover_highlight": "#DAA520",
    "navigate_num": "#000000",
    "navigate_text": "#333333",
    "running_highlight": "#FF0000",
    "selected_highlight": "#FFD700",
    "sidebar_border": "#EEEEEE",
    "wrapper_background": "#FFFFFF"
   },
   "moveMenuLeft": true,
   "nav_menu": {
    "height": "243px",
    "width": "252px"
   },
   "navigate_menu": true,
   "number_sections": false,
   "sideBar": true,
   "threshold": 4,
   "toc_cell": false,
   "toc_section_display": "block",
   "toc_window_display": true,
   "widenNotebook": false
  }
 },
 "nbformat": 4,
 "nbformat_minor": 2
}
